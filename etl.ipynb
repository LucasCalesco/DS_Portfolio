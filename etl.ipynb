{
 "cells": [
  {
   "cell_type": "markdown",
   "metadata": {},
   "source": [
    "# <font color=green>Inicio ETL</font>\n",
    "Instalando o recurso, importando bibliotecas e fazendo o link com o banco\n",
    "***"
   ]
  },
  {
   "cell_type": "code",
   "execution_count": null,
   "metadata": {},
   "outputs": [],
   "source": [
    "pip install pandas sqlalchemy"
   ]
  },
  {
   "cell_type": "code",
   "execution_count": 12,
   "metadata": {},
   "outputs": [],
   "source": [
    "import pandas as pd\n",
    "from sqlalchemy import create_engine\n",
    "import sqlite3"
   ]
  },
  {
   "cell_type": "code",
   "execution_count": 13,
   "metadata": {},
   "outputs": [],
   "source": [
    "conn = sqlite3.connect('etl.db')"
   ]
  },
  {
   "cell_type": "markdown",
   "metadata": {},
   "source": [
    "# <font color=green>Extract</font>\n",
    "Subindo a base através do Pandas de um arquivo (.csv)\n",
    "***"
   ]
  },
  {
   "cell_type": "code",
   "execution_count": 14,
   "metadata": {},
   "outputs": [
    {
     "data": {
      "text/html": [
       "<div>\n",
       "<style scoped>\n",
       "    .dataframe tbody tr th:only-of-type {\n",
       "        vertical-align: middle;\n",
       "    }\n",
       "\n",
       "    .dataframe tbody tr th {\n",
       "        vertical-align: top;\n",
       "    }\n",
       "\n",
       "    .dataframe thead th {\n",
       "        text-align: right;\n",
       "    }\n",
       "</style>\n",
       "<table border=\"1\" class=\"dataframe\">\n",
       "  <thead>\n",
       "    <tr style=\"text-align: right;\">\n",
       "      <th></th>\n",
       "      <th>artist_id</th>\n",
       "      <th>full_name</th>\n",
       "      <th>first_name</th>\n",
       "      <th>middle_names</th>\n",
       "      <th>last_name</th>\n",
       "      <th>nationality</th>\n",
       "      <th>style</th>\n",
       "      <th>birth</th>\n",
       "      <th>death</th>\n",
       "    </tr>\n",
       "  </thead>\n",
       "  <tbody>\n",
       "    <tr>\n",
       "      <th>0</th>\n",
       "      <td>500</td>\n",
       "      <td>Pierre-Auguste Renoir</td>\n",
       "      <td>Pierre</td>\n",
       "      <td>Auguste</td>\n",
       "      <td>Renoir</td>\n",
       "      <td>French</td>\n",
       "      <td>Impressionist</td>\n",
       "      <td>1841</td>\n",
       "      <td>1919</td>\n",
       "    </tr>\n",
       "    <tr>\n",
       "      <th>1</th>\n",
       "      <td>501</td>\n",
       "      <td>Alexandre Cabanel</td>\n",
       "      <td>Alexandre</td>\n",
       "      <td>NaN</td>\n",
       "      <td>Cabanel</td>\n",
       "      <td>French</td>\n",
       "      <td>Classicist</td>\n",
       "      <td>1823</td>\n",
       "      <td>1889</td>\n",
       "    </tr>\n",
       "    <tr>\n",
       "      <th>2</th>\n",
       "      <td>502</td>\n",
       "      <td>James Ensor</td>\n",
       "      <td>James</td>\n",
       "      <td>NaN</td>\n",
       "      <td>Ensor</td>\n",
       "      <td>Belgian</td>\n",
       "      <td>Expressionist</td>\n",
       "      <td>1860</td>\n",
       "      <td>1949</td>\n",
       "    </tr>\n",
       "    <tr>\n",
       "      <th>3</th>\n",
       "      <td>503</td>\n",
       "      <td>Maximilien Luce</td>\n",
       "      <td>Maximilien</td>\n",
       "      <td>NaN</td>\n",
       "      <td>Luce</td>\n",
       "      <td>French</td>\n",
       "      <td>Pointillist</td>\n",
       "      <td>1858</td>\n",
       "      <td>1941</td>\n",
       "    </tr>\n",
       "    <tr>\n",
       "      <th>4</th>\n",
       "      <td>504</td>\n",
       "      <td>August Macke</td>\n",
       "      <td>August</td>\n",
       "      <td>NaN</td>\n",
       "      <td>Macke</td>\n",
       "      <td>German</td>\n",
       "      <td>Expressionist</td>\n",
       "      <td>1887</td>\n",
       "      <td>1914</td>\n",
       "    </tr>\n",
       "  </tbody>\n",
       "</table>\n",
       "</div>"
      ],
      "text/plain": [
       "   artist_id              full_name  first_name middle_names last_name  \\\n",
       "0        500  Pierre-Auguste Renoir      Pierre      Auguste    Renoir   \n",
       "1        501      Alexandre Cabanel   Alexandre          NaN   Cabanel   \n",
       "2        502            James Ensor       James          NaN     Ensor   \n",
       "3        503        Maximilien Luce  Maximilien          NaN      Luce   \n",
       "4        504           August Macke      August          NaN     Macke   \n",
       "\n",
       "  nationality          style  birth  death  \n",
       "0      French  Impressionist   1841   1919  \n",
       "1      French     Classicist   1823   1889  \n",
       "2     Belgian  Expressionist   1860   1949  \n",
       "3      French    Pointillist   1858   1941  \n",
       "4      German  Expressionist   1887   1914  "
      ]
     },
     "execution_count": 14,
     "metadata": {},
     "output_type": "execute_result"
    }
   ],
   "source": [
    "dados = pd.read_csv('artist.csv')\n",
    "dados.head()"
   ]
  },
  {
   "cell_type": "markdown",
   "metadata": {},
   "source": [
    "# <font color=green>Transform and Load</font>  \n",
    "Realizadas Transformações nos nomes de colunas e filtrando os artistas por país, em seguida, atualizando os dados que estavam no formato (.csv) para Sqlite (.db)\n",
    "***\n",
    "***"
   ]
  },
  {
   "cell_type": "code",
   "execution_count": 15,
   "metadata": {},
   "outputs": [
    {
     "name": "stdout",
     "output_type": "stream",
     "text": [
      "     id_artista                nome_completo primeiro_nome        nomes_meio  \\\n",
      "0           500        Pierre-Auguste Renoir        Pierre           Auguste   \n",
      "1           501            Alexandre Cabanel     Alexandre               NaN   \n",
      "2           502                  James Ensor         James               NaN   \n",
      "3           503              Maximilien Luce    Maximilien               NaN   \n",
      "4           504                 August Macke        August               NaN   \n",
      "..          ...                          ...           ...               ...   \n",
      "416         916  Jean-Baptiste-Camille Corot          Jean  Baptiste Camille   \n",
      "417         917                   Jan Toorop           Jan               NaN   \n",
      "418         918              Rembrandt Peale     Rembrandt               NaN   \n",
      "419         919       Edmund Charles Tarbell        Edmund           Charles   \n",
      "420         920           Rembrandt Van Rijn     Rembrandt               NaN   \n",
      "\n",
      "    ultimo_nome nacionalidade         estilo  nascimento  morte  \n",
      "0        Renoir        French  Impressionist        1841   1919  \n",
      "1       Cabanel        French     Classicist        1823   1889  \n",
      "2         Ensor       Belgian  Expressionist        1860   1949  \n",
      "3          Luce        French    Pointillist        1858   1941  \n",
      "4         Macke        German  Expressionist        1887   1914  \n",
      "..          ...           ...            ...         ...    ...  \n",
      "416       Corot        French       Romantic        1796   1875  \n",
      "417      Toorop         Dutch      Symbolist        1858   1928  \n",
      "418       Peale      American   Neoclassical        1778   1860  \n",
      "419     Tarbell      American  Impressionist        1862   1938  \n",
      "420    Van Rijn         Dutch        Baroque        1606   1669  \n",
      "\n",
      "[421 rows x 9 columns]\n"
     ]
    }
   ],
   "source": [
    "mapeamento = {'artist_id': 'id_artista', 'full_name': 'nome_completo', 'first_name': 'primeiro_nome', 'middle_names': 'nomes_meio', \n",
    "              'last_name': 'ultimo_nome', 'nationality': 'nacionalidade', 'style': 'estilo', 'birth': 'nascimento', 'death': 'morte'}\n",
    "dados.rename(columns=mapeamento, inplace=True)\n",
    "print(dados)"
   ]
  },
  {
   "cell_type": "code",
   "execution_count": 16,
   "metadata": {},
   "outputs": [],
   "source": [
    "for nacionalidade, grupo in dados.groupby('nacionalidade'):\n",
    "    # Normalizando os dados\n",
    "    nome_tabela = nacionalidade.replace(' ', '_').replace('.', '').replace(',', '')\n",
    "    grupo.to_sql(nome_tabela, conn, if_exists='replace', index=False)"
   ]
  }
 ],
 "metadata": {
  "kernelspec": {
   "display_name": "Python 3",
   "language": "python",
   "name": "python3"
  },
  "language_info": {
   "codemirror_mode": {
    "name": "ipython",
    "version": 3
   },
   "file_extension": ".py",
   "mimetype": "text/x-python",
   "name": "python",
   "nbconvert_exporter": "python",
   "pygments_lexer": "ipython3",
   "version": "3.11.4"
  }
 },
 "nbformat": 4,
 "nbformat_minor": 2
}
